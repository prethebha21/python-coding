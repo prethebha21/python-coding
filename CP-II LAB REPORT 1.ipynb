{
 "cells": [
  {
   "cell_type": "code",
   "execution_count": 1,
   "id": "421d9fa0",
   "metadata": {},
   "outputs": [
    {
     "name": "stdout",
     "output_type": "stream",
     "text": [
      "HELLO WORLD\n"
     ]
    }
   ],
   "source": [
    "print(\"HELLO WORLD\")"
   ]
  },
  {
   "cell_type": "code",
   "execution_count": 3,
   "id": "9de1a2c4",
   "metadata": {},
   "outputs": [
    {
     "name": "stdout",
     "output_type": "stream",
     "text": [
      "ENTER ANY NUMBER: 10\n",
      "ENTER ANY NUMBER: 21\n",
      "THE SUM OF THE ENTERED NUMBERS IS:  31\n"
     ]
    }
   ],
   "source": [
    "a = input(\"ENTER ANY NUMBER: \")\n",
    "b = input(\"ENTER ANY NUMBER: \")\n",
    "add = int(a) + int(b)\n",
    "print(\"THE SUM OF THE ENTERED NUMBERS IS: \", add)"
   ]
  },
  {
   "cell_type": "code",
   "execution_count": 4,
   "id": "e8ab6405",
   "metadata": {},
   "outputs": [
    {
     "name": "stdout",
     "output_type": "stream",
     "text": [
      "ENTER ANY NUMBER: 3\n",
      "ENTER ANY NUMBER: 5\n",
      "BEFORE SWAPPING: \n",
      "Value of a:  3\n",
      "Value of b:  5\n",
      "AFTER SWAPPING: \n",
      "Value of a:  5\n",
      "Value of b:  3\n"
     ]
    }
   ],
   "source": [
    "a = input(\"ENTER ANY NUMBER: \")\n",
    "b = input(\"ENTER ANY NUMBER: \")\n",
    "print(\"BEFORE SWAPPING: \")\n",
    "print(\"Value of a: \",a)\n",
    "print(\"Value of b: \",b)\n",
    "a,b = b,a\n",
    "print(\"AFTER SWAPPING: \")\n",
    "print(\"Value of a: \",a)\n",
    "print(\"Value of b: \",b)"
   ]
  },
  {
   "cell_type": "code",
   "execution_count": 6,
   "id": "5f3f4d9b",
   "metadata": {},
   "outputs": [
    {
     "name": "stdout",
     "output_type": "stream",
     "text": [
      "ENTER YOUR VALUE(in kilometers:) 23\n",
      "THE VALUE ENTERED IN MILES IS:  14.291533\n"
     ]
    }
   ],
   "source": [
    "a = int(input(\"ENTER YOUR VALUE(in kilometers:) \"))\n",
    "cov = 0.621371\n",
    "b = a * cov\n",
    "print(\"THE VALUE ENTERED IN MILES IS: \",b)"
   ]
  },
  {
   "cell_type": "code",
   "execution_count": 10,
   "id": "e1aefa86",
   "metadata": {},
   "outputs": [
    {
     "name": "stdout",
     "output_type": "stream",
     "text": [
      "ENTER ANY NUMBER: -8\n",
      "THE ENTERED NUMBER IS NEGATIVE\n"
     ]
    }
   ],
   "source": [
    "a = int(input(\"ENTER ANY NUMBER: \"))\n",
    "if(a>0):\n",
    "    print(\"THE ENTERED NUMBER IS POSITIVE\")\n",
    "elif(a<0):\n",
    "    print(\"THE ENTERED NUMBER IS NEGATIVE\")\n",
    "else:\n",
    "    print(\"THE ENTERED NUMBER IS 0\")"
   ]
  },
  {
   "cell_type": "code",
   "execution_count": 13,
   "id": "abf4733d",
   "metadata": {},
   "outputs": [
    {
     "name": "stdout",
     "output_type": "stream",
     "text": [
      "ENTER ANY YEAR: 2003\n",
      "IT IS NOT A LEAP YEAR\n"
     ]
    }
   ],
   "source": [
    "a = int(input(\"ENTER ANY YEAR: \"))\n",
    "if(a%400 == 0 & a%100 == 0):\n",
    "    print(\"IT IS A LEAP YEAR\")\n",
    "elif(a%4 == 0 & a%100 != 0):\n",
    "    print(\"IT IS A LEAP YEAR\")\n",
    "else:\n",
    "    print(\"IT IS NOT A LEAP YEAR\")\n"
   ]
  },
  {
   "cell_type": "code",
   "execution_count": 4,
   "id": "357f421c",
   "metadata": {},
   "outputs": [
    {
     "name": "stdout",
     "output_type": "stream",
     "text": [
      "ENTER THE STARTING NUMBER: 66\n",
      "ENTER THE ENDING NUMBER: 99\n",
      "Prime numbers between 66 and 99 are:\n",
      "67 71 73 79 83 89 97 "
     ]
    }
   ],
   "source": [
    "lower =int(input(\"ENTER THE STARTING NUMBER: \"))\n",
    "upper =int(input(\"ENTER THE ENDING NUMBER: \"))\n",
    "print(\"Prime numbers between\", lower, \"and\", upper, \"are:\")\n",
    "for num in range(lower, upper + 1):\n",
    "   if num > 1:\n",
    "       for i in range(2, num):\n",
    "           if (num % i) == 0:\n",
    "               break\n",
    "       else:\n",
    "           print(num, end = \" \")"
   ]
  },
  {
   "cell_type": "code",
   "execution_count": 7,
   "id": "2d7ae54d",
   "metadata": {},
   "outputs": [
    {
     "name": "stdout",
     "output_type": "stream",
     "text": [
      "ENTER THE NUMBER: 2\n",
      "FIBONACII SERIES IS:  0 1 \n"
     ]
    }
   ],
   "source": [
    "num = int(input(\"ENTER THE NUMBER: \"))\n",
    "n1, n2 = 0, 1\n",
    "print(\"FIBONACII SERIES IS: \", n1, n2, end=\" \")\n",
    "for i in range(2, num):\n",
    "    n3 = n1 + n2\n",
    "    n1 = n2\n",
    "    n2 = n3\n",
    "    print(n3, end=\" \")\n",
    "\n",
    "print()"
   ]
  },
  {
   "cell_type": "code",
   "execution_count": null,
   "id": "16697fe7",
   "metadata": {},
   "outputs": [],
   "source": [
    "num = int(input(\"Enter a number: \"))\n",
    "sum =0\n",
    "temp = num\n",
    "while temp > 0:\n",
    "   digit = temp % 10\n",
    "   sum += digit ** 3\n",
    "   temp //= 10\n",
    "if num == sum:\n",
    "   print(num,\"is an Armstrong number\")\n",
    "else:\n",
    "   print(num,\"is not an Armstrong number\")"
   ]
  },
  {
   "cell_type": "code",
   "execution_count": 8,
   "id": "1736f93a",
   "metadata": {},
   "outputs": [
    {
     "name": "stdout",
     "output_type": "stream",
     "text": [
      "  8\n"
     ]
    }
   ],
   "source": []
  },
  {
   "cell_type": "code",
   "execution_count": null,
   "id": "55dcfcca",
   "metadata": {},
   "outputs": [],
   "source": []
  }
 ],
 "metadata": {
  "kernelspec": {
   "display_name": "Python 3 (ipykernel)",
   "language": "python",
   "name": "python3"
  },
  "language_info": {
   "codemirror_mode": {
    "name": "ipython",
    "version": 3
   },
   "file_extension": ".py",
   "mimetype": "text/x-python",
   "name": "python",
   "nbconvert_exporter": "python",
   "pygments_lexer": "ipython3",
   "version": "3.9.12"
  }
 },
 "nbformat": 4,
 "nbformat_minor": 5
}
